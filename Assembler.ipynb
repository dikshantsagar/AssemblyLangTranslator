{
 "cells": [
  {
   "cell_type": "code",
   "execution_count": 102,
   "metadata": {},
   "outputs": [],
   "source": [
    " opcode = {\n",
    "\n",
    "            'CLA' : '0000',\n",
    "            'LAC' : '0001',\n",
    "            'SAC' : '0010',\n",
    "            'ADD' : '0011',\n",
    "            'SUB' : '0100',\n",
    "            'BRZ' : '0101',            # opcode dictionary\n",
    "            'BRP' : '0111',\n",
    "            'INP' : '1000',\n",
    "            'DSP' : '1001',\n",
    "            'MUL' : '1010',\n",
    "            'DIV' : '1011',\n",
    "            'STP' : '1100',\n",
    "\n",
    "          }"
   ]
  },
  {
   "cell_type": "code",
   "execution_count": 103,
   "metadata": {},
   "outputs": [],
   "source": [
    "file=open('input.txt','r')\n",
    "lines=[]\n",
    "for x in file:\n",
    "    a=x.splitlines()[0]              # reading lines from the file\n",
    "    a=a.split(\" \")\n",
    "    z=[]\n",
    "    for s in a:\n",
    "        if(s!=\"\"):\n",
    "            z.append(s)\n",
    "    lines.append(z)\n"
   ]
  },
  {
   "cell_type": "code",
   "execution_count": 104,
   "metadata": {},
   "outputs": [
    {
     "data": {
      "text/plain": [
       "[['LAC', 'I'],\n",
       " ['ADD', 'J'],\n",
       " ['SAC', 'INTER'],\n",
       " ['LAC', 'K'],\n",
       " ['ADD', 'L'],\n",
       " ['MUL', 'INTER'],\n",
       " ['STP'],\n",
       " ['I', 'DS', '4'],\n",
       " ['J', 'DS', '5'],\n",
       " ['K', 'DS', '5'],\n",
       " ['L', 'DS', '4']]"
      ]
     },
     "execution_count": 104,
     "metadata": {},
     "output_type": "execute_result"
    }
   ],
   "source": [
    "lines"
   ]
  },
  {
   "cell_type": "code",
   "execution_count": 105,
   "metadata": {},
   "outputs": [],
   "source": [
    "for k in range(len(lines)):\n",
    "    for i in range(len(lines[k])):                 \n",
    "        if(lines[k][i] in opcode):                       #converting opcodes to opcode binary\n",
    "            lines[k][i]=opcode[lines[k][i]]"
   ]
  },
  {
   "cell_type": "code",
   "execution_count": 106,
   "metadata": {},
   "outputs": [
    {
     "data": {
      "text/plain": [
       "[['0001', 'I'],\n",
       " ['0011', 'J'],\n",
       " ['0010', 'INTER'],\n",
       " ['0001', 'K'],\n",
       " ['0011', 'L'],\n",
       " ['1010', 'INTER'],\n",
       " ['1100'],\n",
       " ['I', 'DS', '4'],\n",
       " ['J', 'DS', '5'],\n",
       " ['K', 'DS', '5'],\n",
       " ['L', 'DS', '4']]"
      ]
     },
     "execution_count": 106,
     "metadata": {},
     "output_type": "execute_result"
    }
   ],
   "source": [
    "lines"
   ]
  },
  {
   "cell_type": "code",
   "execution_count": 107,
   "metadata": {},
   "outputs": [],
   "source": [
    "get_bin = lambda x, n: format(x, 'b').zfill(n)\n",
    "memorycounter=1\n",
    "memory={}"
   ]
  },
  {
   "cell_type": "code",
   "execution_count": 108,
   "metadata": {},
   "outputs": [],
   "source": [
    "for k in range(len(lines)):\n",
    "    for i in range(len(lines[k])):                 \n",
    "        if(lines[k][i]=='DS'):\n",
    "            memory[lines[k][i-1]]=[get_bin(memorycounter,4),int(lines[k][i+1])]\n",
    "            memorycounter+=1\n",
    "            lines[k][i+1]=get_bin(int(lines[k][i+1]),4)\n",
    "            "
   ]
  },
  {
   "cell_type": "code",
   "execution_count": 109,
   "metadata": {},
   "outputs": [
    {
     "data": {
      "text/plain": [
       "{'I': ['0001', 4], 'J': ['0010', 5], 'K': ['0011', 5], 'L': ['0100', 4]}"
      ]
     },
     "execution_count": 109,
     "metadata": {},
     "output_type": "execute_result"
    }
   ],
   "source": [
    "memory"
   ]
  },
  {
   "cell_type": "code",
   "execution_count": 110,
   "metadata": {},
   "outputs": [
    {
     "data": {
      "text/plain": [
       "{'I': '0101', 'J': '0110', 'K': '0111', 'L': '1000'}"
      ]
     },
     "execution_count": 110,
     "metadata": {},
     "output_type": "execute_result"
    }
   ],
   "source": [
    "var"
   ]
  },
  {
   "cell_type": "code",
   "execution_count": 111,
   "metadata": {},
   "outputs": [],
   "source": [
    "for k in range(len(lines)):\n",
    "    for i in range(len(lines[k])):\n",
    "        if(lines[k][i] in memory):\n",
    "            lines[k][i]=memory[lines[k][i]][0]\n",
    "        "
   ]
  },
  {
   "cell_type": "code",
   "execution_count": 112,
   "metadata": {},
   "outputs": [
    {
     "data": {
      "text/plain": [
       "[['0001', '0001'],\n",
       " ['0011', '0010'],\n",
       " ['0010', 'INTER'],\n",
       " ['0001', '0011'],\n",
       " ['0011', '0100'],\n",
       " ['1010', 'INTER'],\n",
       " ['1100'],\n",
       " ['0001', 'DS', '0100'],\n",
       " ['0010', 'DS', '0101'],\n",
       " ['0011', 'DS', '0101'],\n",
       " ['0100', 'DS', '0100']]"
      ]
     },
     "execution_count": 112,
     "metadata": {},
     "output_type": "execute_result"
    }
   ],
   "source": [
    "lines"
   ]
  },
  {
   "cell_type": "code",
   "execution_count": null,
   "metadata": {},
   "outputs": [],
   "source": []
  }
 ],
 "metadata": {
  "kernelspec": {
   "display_name": "Python 3",
   "language": "python",
   "name": "python3"
  },
  "language_info": {
   "codemirror_mode": {
    "name": "ipython",
    "version": 3
   },
   "file_extension": ".py",
   "mimetype": "text/x-python",
   "name": "python",
   "nbconvert_exporter": "python",
   "pygments_lexer": "ipython3",
   "version": "3.6.5"
  }
 },
 "nbformat": 4,
 "nbformat_minor": 2
}
